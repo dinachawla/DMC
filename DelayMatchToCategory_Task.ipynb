{
  "nbformat": 4,
  "nbformat_minor": 0,
  "metadata": {
    "colab": {
      "name": "DelayMatchToCategory_Task.ipynb",
      "provenance": [],
      "collapsed_sections": [],
      "include_colab_link": true
    },
    "kernelspec": {
      "display_name": "Python 3",
      "name": "python3"
    },
    "language_info": {
      "name": "python"
    }
  },
  "cells": [
    {
      "cell_type": "markdown",
      "metadata": {
        "id": "view-in-github",
        "colab_type": "text"
      },
      "source": [
        "<a href=\"https://colab.research.google.com/github/dinachawla/Delay_Match_To_Category/blob/main/DelayMatchToCategory_Task.ipynb\" target=\"_parent\"><img src=\"https://colab.research.google.com/assets/colab-badge.svg\" alt=\"Open In Colab\"/></a>"
      ]
    },
    {
      "cell_type": "code",
      "metadata": {
        "colab": {
          "base_uri": "https://localhost:8080/"
        },
        "id": "yIsml1CTtj2N",
        "outputId": "4f8f126b-332d-45ff-e84b-915e43886d2e"
      },
      "source": [
        "%tensorflow_version 1.x\n",
        "# Install gym\n",
        "! pip install gym\n",
        "# Install neurogym\n",
        "! git clone https://github.com/nemyers/neurogym\n",
        "%cd neurogym/\n",
        "! pip install -e .\n",
        "# Install stable-baselines\n",
        "! pip install --upgrade stable-baselines\n",
        "! pip install tabulate"
      ],
      "execution_count": null,
      "outputs": [
        {
          "output_type": "stream",
          "name": "stdout",
          "text": [
            "TensorFlow 1.x selected.\n",
            "Requirement already satisfied: gym in /usr/local/lib/python3.7/dist-packages (0.17.3)\n",
            "Requirement already satisfied: pyglet<=1.5.0,>=1.4.0 in /usr/local/lib/python3.7/dist-packages (from gym) (1.5.0)\n",
            "Requirement already satisfied: cloudpickle<1.7.0,>=1.2.0 in /usr/local/lib/python3.7/dist-packages (from gym) (1.3.0)\n",
            "Requirement already satisfied: numpy>=1.10.4 in /usr/local/lib/python3.7/dist-packages (from gym) (1.19.5)\n",
            "Requirement already satisfied: scipy in /usr/local/lib/python3.7/dist-packages (from gym) (1.4.1)\n",
            "Requirement already satisfied: future in /usr/local/lib/python3.7/dist-packages (from pyglet<=1.5.0,>=1.4.0->gym) (0.16.0)\n",
            "Cloning into 'neurogym'...\n",
            "remote: Enumerating objects: 10747, done.\u001b[K\n",
            "remote: Counting objects: 100% (10/10), done.\u001b[K\n",
            "remote: Compressing objects: 100% (10/10), done.\u001b[K\n",
            "remote: Total 10747 (delta 3), reused 0 (delta 0), pack-reused 10737\u001b[K\n",
            "Receiving objects: 100% (10747/10747), 8.11 MiB | 13.53 MiB/s, done.\n",
            "Resolving deltas: 100% (8127/8127), done.\n",
            "/content/neurogym\n",
            "Obtaining file:///content/neurogym\n",
            "Requirement already satisfied: numpy in /usr/local/lib/python3.7/dist-packages (from neurogym==0.0.1) (1.19.5)\n",
            "Requirement already satisfied: gym in /usr/local/lib/python3.7/dist-packages (from neurogym==0.0.1) (0.17.3)\n",
            "Requirement already satisfied: matplotlib in /usr/local/lib/python3.7/dist-packages (from neurogym==0.0.1) (3.2.2)\n",
            "Requirement already satisfied: scipy in /usr/local/lib/python3.7/dist-packages (from gym->neurogym==0.0.1) (1.4.1)\n",
            "Requirement already satisfied: pyglet<=1.5.0,>=1.4.0 in /usr/local/lib/python3.7/dist-packages (from gym->neurogym==0.0.1) (1.5.0)\n",
            "Requirement already satisfied: cloudpickle<1.7.0,>=1.2.0 in /usr/local/lib/python3.7/dist-packages (from gym->neurogym==0.0.1) (1.3.0)\n",
            "Requirement already satisfied: future in /usr/local/lib/python3.7/dist-packages (from pyglet<=1.5.0,>=1.4.0->gym->neurogym==0.0.1) (0.16.0)\n",
            "Requirement already satisfied: cycler>=0.10 in /usr/local/lib/python3.7/dist-packages (from matplotlib->neurogym==0.0.1) (0.10.0)\n",
            "Requirement already satisfied: python-dateutil>=2.1 in /usr/local/lib/python3.7/dist-packages (from matplotlib->neurogym==0.0.1) (2.8.2)\n",
            "Requirement already satisfied: kiwisolver>=1.0.1 in /usr/local/lib/python3.7/dist-packages (from matplotlib->neurogym==0.0.1) (1.3.2)\n",
            "Requirement already satisfied: pyparsing!=2.0.4,!=2.1.2,!=2.1.6,>=2.0.1 in /usr/local/lib/python3.7/dist-packages (from matplotlib->neurogym==0.0.1) (2.4.7)\n",
            "Requirement already satisfied: six in /usr/local/lib/python3.7/dist-packages (from cycler>=0.10->matplotlib->neurogym==0.0.1) (1.15.0)\n",
            "Installing collected packages: neurogym\n",
            "  Running setup.py develop for neurogym\n",
            "Successfully installed neurogym-0.0.1\n",
            "Requirement already satisfied: stable-baselines in /tensorflow-1.15.2/python3.7 (2.2.1)\n",
            "Collecting stable-baselines\n",
            "  Downloading stable_baselines-2.10.2-py3-none-any.whl (240 kB)\n",
            "\u001b[K     |████████████████████████████████| 240 kB 33.0 MB/s \n",
            "\u001b[?25hRequirement already satisfied: matplotlib in /usr/local/lib/python3.7/dist-packages (from stable-baselines) (3.2.2)\n",
            "Requirement already satisfied: joblib in /usr/local/lib/python3.7/dist-packages (from stable-baselines) (1.0.1)\n",
            "Requirement already satisfied: cloudpickle>=0.5.5 in /usr/local/lib/python3.7/dist-packages (from stable-baselines) (1.3.0)\n",
            "Requirement already satisfied: scipy in /usr/local/lib/python3.7/dist-packages (from stable-baselines) (1.4.1)\n",
            "Requirement already satisfied: pandas in /usr/local/lib/python3.7/dist-packages (from stable-baselines) (1.1.5)\n",
            "Requirement already satisfied: opencv-python in /usr/local/lib/python3.7/dist-packages (from stable-baselines) (4.1.2.30)\n",
            "Requirement already satisfied: gym[atari,classic_control]>=0.11 in /usr/local/lib/python3.7/dist-packages (from stable-baselines) (0.17.3)\n",
            "Requirement already satisfied: numpy in /usr/local/lib/python3.7/dist-packages (from stable-baselines) (1.19.5)\n",
            "Requirement already satisfied: pyglet<=1.5.0,>=1.4.0 in /usr/local/lib/python3.7/dist-packages (from gym[atari,classic_control]>=0.11->stable-baselines) (1.5.0)\n",
            "Requirement already satisfied: atari-py~=0.2.0 in /usr/local/lib/python3.7/dist-packages (from gym[atari,classic_control]>=0.11->stable-baselines) (0.2.9)\n",
            "Requirement already satisfied: Pillow in /usr/local/lib/python3.7/dist-packages (from gym[atari,classic_control]>=0.11->stable-baselines) (7.1.2)\n",
            "Requirement already satisfied: six in /usr/local/lib/python3.7/dist-packages (from atari-py~=0.2.0->gym[atari,classic_control]>=0.11->stable-baselines) (1.15.0)\n",
            "Requirement already satisfied: future in /usr/local/lib/python3.7/dist-packages (from pyglet<=1.5.0,>=1.4.0->gym[atari,classic_control]>=0.11->stable-baselines) (0.16.0)\n",
            "Requirement already satisfied: python-dateutil>=2.1 in /usr/local/lib/python3.7/dist-packages (from matplotlib->stable-baselines) (2.8.2)\n",
            "Requirement already satisfied: pyparsing!=2.0.4,!=2.1.2,!=2.1.6,>=2.0.1 in /usr/local/lib/python3.7/dist-packages (from matplotlib->stable-baselines) (2.4.7)\n",
            "Requirement already satisfied: cycler>=0.10 in /usr/local/lib/python3.7/dist-packages (from matplotlib->stable-baselines) (0.10.0)\n",
            "Requirement already satisfied: kiwisolver>=1.0.1 in /usr/local/lib/python3.7/dist-packages (from matplotlib->stable-baselines) (1.3.2)\n",
            "Requirement already satisfied: pytz>=2017.2 in /usr/local/lib/python3.7/dist-packages (from pandas->stable-baselines) (2018.9)\n",
            "Installing collected packages: stable-baselines\n",
            "  Attempting uninstall: stable-baselines\n",
            "    Found existing installation: stable-baselines 2.2.1\n",
            "    Uninstalling stable-baselines-2.2.1:\n",
            "      Successfully uninstalled stable-baselines-2.2.1\n",
            "Successfully installed stable-baselines-2.10.2\n",
            "Requirement already satisfied: tabulate in /usr/local/lib/python3.7/dist-packages (0.8.9)\n"
          ]
        }
      ]
    },
    {
      "cell_type": "code",
      "metadata": {
        "id": "O4eF6KCctmir"
      },
      "source": [
        "# SETUP PATH\n",
        "#general\n",
        "import math\n",
        "import numpy as np\n",
        "import pandas as pd\n",
        "import matplotlib.pyplot as plt\n",
        "import matplotlib as mpl\n",
        "from pathlib import Path\n",
        "import os\n",
        "\n",
        "#for tables\n",
        "from tabulate import tabulate"
      ],
      "execution_count": null,
      "outputs": []
    },
    {
      "cell_type": "code",
      "metadata": {
        "id": "a9noISfut9KO"
      },
      "source": [
        "#for task definition\n",
        "import neurogym as ngym\n",
        "import gym\n",
        "\n",
        "#for torch\n",
        "import torch\n",
        "import torch.nn as nn\n",
        "from torch.nn import init\n",
        "from torch.nn import functional as F\n",
        "import torch.optim as optim\n",
        "\n",
        "#for analysis\n",
        "from sklearn.decomposition import PCA"
      ],
      "execution_count": null,
      "outputs": []
    },
    {
      "cell_type": "code",
      "metadata": {
        "id": "gRhaMVNduBhG"
      },
      "source": [
        "# Environment\n",
        "task = 'DelayMatchCategoryMod-v0'\n",
        "dim_ring = 32\n",
        "sigma    = 6\n",
        "timing   = {'fixation': 200,\n",
        "            'sample': 650,\n",
        "            'first_delay': 200,\n",
        "            #'first_delay': ('choice', [200, 400, 600, 800, 1000]), #Adding noise - delay values (increasing increments), sigma start off with 0, icrease \n",
        "            'test': 650 }\n",
        "kwargs = {'dt': 50, 'timing': timing, 'dim_ring': dim_ring,'sigma': sigma, 'stim_range': 1.00}\n",
        "seq_len = 50\n",
        "\n",
        "# Make supervised dataset\n",
        "dataset = ngym.Dataset(task,env_kwargs=kwargs, batch_size=20, seq_len=seq_len)"
      ],
      "execution_count": null,
      "outputs": []
    },
    {
      "cell_type": "code",
      "metadata": {
        "colab": {
          "base_uri": "https://localhost:8080/",
          "height": 429
        },
        "id": "35Is18GOuFuT",
        "outputId": "1243f56a-35d9-4fe6-9704-9e4f47069a6f"
      },
      "source": [
        "# A sample environment from dataset\n",
        "env = dataset.env\n",
        "# Visualize the environment with 2 sample trials\n",
        "_ = ngym.utils.plot_env(env, num_trials=1, def_act=0)\n",
        "\n",
        "# Network input and output size\n",
        "input_size = env.observation_space.shape[0]\n",
        "output_size = env.action_space.n\n",
        "\n",
        "############\n",
        "# check task\n",
        "inputs, target = dataset()\n",
        "#plt.Figure()\n",
        "#plt.plot(inputs[110,19,0:33])\n",
        "mask = target > 0\n",
        "print(inputs.shape)   # (N_time, batch_size, N_neuron)\n",
        "print(target.shape)   # (N_time, batch_size)"
      ],
      "execution_count": null,
      "outputs": [
        {
          "output_type": "stream",
          "name": "stderr",
          "text": [
            "findfont: Font family ['arial'] not found. Falling back to DejaVu Sans.\n",
            "findfont: Font family ['arial'] not found. Falling back to DejaVu Sans.\n"
          ]
        },
        {
          "output_type": "stream",
          "name": "stdout",
          "text": [
            "(50, 20, 33)\n",
            "(50, 20)\n"
          ]
        },
        {
          "output_type": "display_data",
          "data": {
            "image/png": "[encoded data removed]",
            "text/plain": [
              "<Figure size 360x345.6 with 4 Axes>"
            ]
          },
          "metadata": {
            "needs_background": "light"
          }
        }
      ]
    },
    {
      "cell_type": "code",
      "metadata": {
        "id": "_r9AoN_XuJh8"
      },
      "source": [
        "# define net\n",
        "class CTRNN(nn.Module):\n",
        "    \"\"\"Continuous-time RNN.\n",
        "\n",
        "    Args:\n",
        "        input_size: Number of input neurons\n",
        "        hidden_size: Number of hidden neurons\n",
        "\n",
        "    Inputs:\n",
        "        input: (seq_len, batch, input_size), network input\n",
        "        hidden: (batch, hidden_size), initial hidden activity\n",
        "    \"\"\"\n",
        "\n",
        "    def __init__(self, input_size, hidden_size, dt=None, **kwargs):\n",
        "        super().__init__()\n",
        "        self.input_size = input_size\n",
        "        self.hidden_size = hidden_size\n",
        "        self.tau = 100\n",
        "        if dt is None:\n",
        "            alpha = 1\n",
        "        else:\n",
        "            alpha = dt / self.tau\n",
        "        self.alpha = alpha\n",
        "        self.oneminusalpha = 1 - alpha\n",
        "\n",
        "        self.input2h = nn.Linear(input_size, hidden_size)\n",
        "        self.h2h = nn.Linear(hidden_size, hidden_size)\n",
        "\n",
        "    def init_hidden(self, input_shape):\n",
        "        batch_size = input_shape[1]\n",
        "        return torch.zeros(batch_size, self.hidden_size)\n",
        "\n",
        "    def recurrence(self, input, hidden):\n",
        "        \"\"\"Recurrence helper.\"\"\"\n",
        "        pre_activation = self.input2h(input) + self.h2h(hidden)\n",
        "        h_new = torch.tanh(hidden * self.oneminusalpha +\n",
        "                           pre_activation * self.alpha)\n",
        "        return h_new\n",
        "\n",
        "    def forward(self, input, hidden=None):\n",
        "        \"\"\"Propogate input through the network.\"\"\"\n",
        "        if hidden is None:\n",
        "            hidden = self.init_hidden(input.shape).to(input.device)\n",
        "\n",
        "        output = []\n",
        "        steps = range(input.size(0))\n",
        "        for i in steps:\n",
        "            hidden = self.recurrence(input[i], hidden)\n",
        "            output.append(hidden)\n",
        "\n",
        "        output = torch.stack(output, dim=0)\n",
        "        return output, hidden\n",
        "\n",
        "\n",
        "class RNNNet(nn.Module):\n",
        "    \"\"\"Recurrent network model.\n",
        "\n",
        "    Args:\n",
        "        input_size: int, input size\n",
        "        hidden_size: int, hidden size\n",
        "        output_size: int, output size\n",
        "        rnn: str, type of RNN, lstm, rnn, ctrnn, or eirnn\n",
        "    \"\"\"\n",
        "    def __init__(self, input_size, hidden_size, output_size, **kwargs):\n",
        "        super().__init__()\n",
        "\n",
        "        # Continuous time RNN\n",
        "        self.rnn = CTRNN(input_size, hidden_size, **kwargs)\n",
        "        self.fc  = nn.Linear(hidden_size, output_size)\n",
        "        \n",
        "    def readout(fc_state):\n",
        "        \"\"\"output helper.\"\"\"\n",
        "        h_out = 0.5*torch.tanh(fc_state-3.0)\n",
        "        return h_out\n",
        "\n",
        "    def forward(self, x):\n",
        "        rnn_activity, _ = self.rnn(x)\n",
        "        out = self.fc(rnn_activity)\n",
        "        #out = self.readout(out)\n",
        "        return out, rnn_activity"
      ],
      "execution_count": null,
      "outputs": []
    },
    {
      "cell_type": "code",
      "metadata": {
        "colab": {
          "base_uri": "https://localhost:8080/"
        },
        "id": "R6ecyxHmuVT3",
        "outputId": "58198bf6-9d98-41d9-e78d-d0dc63c5163f"
      },
      "source": [
        "# Train net\n",
        "# Reset Network\n",
        "# Instantiate the network and print information\n",
        "hidden_size =150\n",
        "net = RNNNet(input_size=input_size, hidden_size=hidden_size,\n",
        "             output_size=output_size, dt=env.dt)\n",
        "print(net)"
      ],
      "execution_count": null,
      "outputs": [
        {
          "output_type": "stream",
          "name": "stdout",
          "text": [
            "RNNNet(\n",
            "  (rnn): CTRNN(\n",
            "    (input2h): Linear(in_features=33, out_features=150, bias=True)\n",
            "    (h2h): Linear(in_features=150, out_features=150, bias=True)\n",
            "  )\n",
            "  (fc): Linear(in_features=150, out_features=3, bias=True)\n",
            ")\n"
          ]
        }
      ]
    },
    {
      "cell_type": "code",
      "metadata": {
        "colab": {
          "base_uri": "https://localhost:8080/"
        },
        "id": "WT4qTCRjuQ7-",
        "outputId": "0c4428cc-3c59-4496-c972-3f969b36f15f"
      },
      "source": [
        "#adding for loop here that modifies task parameters\n",
        "delay_list  = [200, 400, 600, 800, 1000]\n",
        "sigma_range = [0, 0.05, 0.1, 0.2, 0.4, 0.8, 1.6, 2.4]\n",
        "variable_list = []\n",
        "\n",
        "cur_delay = 200\n",
        "\n",
        "# Use Adam optimizer\n",
        "optimizer = optim.Adam(net.parameters(), lr=0.001)\n",
        "#criterion = nn.CrossEntropyLoss()\n",
        "criterion = nn.MSELoss()\n",
        "\n",
        "#for cur_sigma in sigma_range:\n",
        "for cur_delay in delay_list: #loop over delays\n",
        "    # Make supervised dataset\n",
        "    sigma    = 6\n",
        "    variable_list.append(cur_delay)\n",
        "    print(variable_list)\n",
        "    timing   = {'fixation': 200,\n",
        "                'sample': 650,\n",
        "                #'first_delay': cur_delay,\n",
        "                'first_delay': ('choice', variable_list), #Adding noise - delay values (increasing increments), sigma start off with 0, icrease \n",
        "                'test': 650 }\n",
        "    kwargs = {'dt': 50, 'timing': timing, 'dim_ring': dim_ring,'sigma': sigma, 'stim_range': 1.00}\n",
        "    seq_len = 50\n",
        "    dataset = ngym.Dataset(task,env_kwargs=kwargs, batch_size=20, seq_len=seq_len)\n",
        "\n",
        "    # train net\n",
        "    running_loss = 0\n",
        "    running_acc = 0\n",
        "    for i in range(50000):\n",
        "        inputs, labels_np = dataset()\n",
        "        labels_np = labels_np.flatten()\n",
        "        inputs = torch.from_numpy(inputs).type(torch.float)\n",
        "        labels = torch.from_numpy(labels_np).type(torch.long)\n",
        "        \n",
        "        \n",
        "        y_onehot = torch.FloatTensor(labels.size(0), output_size)\n",
        "        y_onehot[:,:]=0\n",
        "\n",
        "        labelnum = np.arange(output_size)\n",
        "        \n",
        "        for  ilabel, y in enumerate(labelnum):\n",
        "            batch_idx = labels_np==y\n",
        "            #y_onehot.zero_()\n",
        "            #y_onehot.scatter_(1, y, 1)\n",
        "            #y_onehot[batch_idx,:]=0\n",
        "            y_onehot[batch_idx,y]=1\n",
        "            \n",
        "        # in your training loop:\n",
        "        optimizer.zero_grad()   # zero the gradient buffers\n",
        "        output, _ = net(inputs)\n",
        "        output = output.view(-1, output_size)\n",
        "        #loss = criterion(output, labels)\n",
        "        loss = criterion(output,y_onehot)\n",
        "        #loss = criterion(output[320:,:], labels[320:,])\n",
        "        \n",
        "        loss.backward()\n",
        "        optimizer.step()    # Does the update\n",
        "\n",
        "        running_loss += loss.item()\n",
        "        # Compute performance\n",
        "        output_np = np.argmax(output.detach().numpy(), axis=-1)\n",
        "        ind = labels_np > 0  # Only analyze time points when target is not fixation\n",
        "        running_acc += np.mean(labels_np[ind] == output_np[ind])\n",
        "        if i % 100 == 99:\n",
        "            running_loss /= 100\n",
        "            running_acc /= 100\n",
        "            print('Delay: ',cur_delay,' Step {}, Loss {:0.4f}, Acc {:0.3f}'.format(i+1, running_loss, running_acc))\n",
        "            \n",
        "            if running_acc >= 0.87:\n",
        "              break\n",
        "            running_loss = 0\n",
        "            running_acc = 0\n",
        "\n",
        "       "
      ],
      "execution_count": null,
      "outputs": [
        {
          "output_type": "stream",
          "name": "stdout",
          "text": [
            "[200]\n",
            "Delay:  200  Step 100, Loss 0.1807, Acc 0.025\n",
            "Delay:  200  Step 200, Loss 0.1289, Acc 0.223\n",
            "Delay:  200  Step 300, Loss 0.0911, Acc 0.410\n",
            "Delay:  200  Step 400, Loss 0.0822, Acc 0.474\n",
            "Delay:  200  Step 500, Loss 0.0775, Acc 0.485\n",
            "Delay:  200  Step 600, Loss 0.0751, Acc 0.503\n",
            "Delay:  200  Step 700, Loss 0.0728, Acc 0.548\n",
            "Delay:  200  Step 800, Loss 0.0670, Acc 0.735\n",
            "Delay:  200  Step 900, Loss 0.0552, Acc 0.828\n",
            "Delay:  200  Step 1000, Loss 0.0418, Acc 0.883\n",
            "[200, 400]\n",
            "Delay:  400  Step 100, Loss 0.0374, Acc 0.875\n",
            "[200, 400, 600]\n",
            "Delay:  600  Step 100, Loss 0.0298, Acc 0.891\n",
            "[200, 400, 600, 800]\n",
            "Delay:  800  Step 100, Loss 0.0268, Acc 0.884\n",
            "[200, 400, 600, 800, 1000]\n",
            "Delay:  1000  Step 100, Loss 0.0262, Acc 0.888\n"
          ]
        }
      ]
    },
    {
      "cell_type": "code",
      "metadata": {
        "colab": {
          "base_uri": "https://localhost:8080/",
          "height": 851
        },
        "id": "36KMZylOrvfa",
        "outputId": "77d7a940-56d4-49e6-d09f-0b9c57e4ca2c"
      },
      "source": [
        "delay_list  = [200, 400, 600, 800, 1000]\n",
        "sigma_range = [0, 0.5, 1, 2, 3, 4, 5, 6]\n",
        "cur_delay = 200\n",
        "cur_sigma = 0\n",
        "\n",
        "\n",
        "for cur_delay in delay_list:\n",
        "  for cur_sigma in sigma_range:\n",
        "    # get sample trials to analyse network activity\n",
        "    timing   = {'fixation': 200,\n",
        "                    'sample': 650,\n",
        "                    #'first_delay': 1000,\n",
        "                    'first_delay': cur_delay,\n",
        "                    'test': 650 }\n",
        "    kwargs = {'timing': timing, 'sigma': cur_sigma, 'stim_range': 1, 'dim_ring': 32,'dt':50}\n",
        "    env = gym.make(task, **kwargs)\n",
        "    env.reset(no_step=True)\n",
        "\n",
        "    perf = 0\n",
        "    num_trial = 1000\n",
        "    activity_dict = {}\n",
        "    trial_infos = {}\n",
        "    output_dict = {}\n",
        "    test_acc = np.zeros(num_trial)\n",
        "\n",
        "    for i in range(num_trial):\n",
        "        env.new_trial()\n",
        "        ob, gt = env.ob, env.gt\n",
        "        inputs = torch.from_numpy(ob[:, np.newaxis, :]).type(torch.float)\n",
        "        action_pred, rnn_activity = net(inputs)\n",
        "        rnn_activity = rnn_activity[:, 0, :].detach().numpy()\n",
        "        \n",
        "        output = action_pred.view(-1, output_size)\n",
        "        output_np = np.argmax(output.detach().numpy(), axis=-1)\n",
        "        ind = gt > 0  # Only analyze time points when target is not fixation\n",
        "        test_acc[i] = np.mean(gt[ind] == output_np[ind])\n",
        "\n",
        "        action_pred = action_pred[:, 0, :].detach().numpy()\n",
        "        activity_dict[i] = rnn_activity[env.start_ind['first_delay']:env.end_ind['test']]\n",
        "        #activity_dict[i] = rnn_activity[env.start_ind['test']:env.end_ind['test']]\n",
        "        #output_dict[i] = action_pred[env.start_ind['fixation']:env.end_ind['test']]\n",
        "        trial_infos[i] = env.trial.copy()\n",
        "\n",
        "    # Concatenate activity for PCA\n",
        "    #activity = np.concatenate(list(activity_dict[i] for i in range(num_trial)), axis=0)\n",
        "    #print('Shape of the neural activity: (Time points, Neurons): ', activity.shape)\n",
        "    print('Sigma: ',cur_sigma,' Delay: ',cur_delay, 'Test Accuracy: ',np.mean(test_acc))"
      ],
      "execution_count": null,
      "outputs": [
        {
          "output_type": "stream",
          "name": "stdout",
          "text": [
            "Sigma:  0  Delay:  200 Test Accuracy:  0.131\n",
            "Sigma:  0.5  Delay:  200 Test Accuracy:  0.12853846153846155\n",
            "Sigma:  1  Delay:  200 Test Accuracy:  0.11784615384615384\n",
            "Sigma:  2  Delay:  200 Test Accuracy:  0.12161538461538461\n",
            "Sigma:  3  Delay:  200 Test Accuracy:  0.1343846153846154\n",
            "Sigma:  4  Delay:  200 Test Accuracy:  0.12553846153846154\n",
            "Sigma:  5  Delay:  200 Test Accuracy:  0.15353846153846154\n",
            "Sigma:  6  Delay:  200 Test Accuracy:  0.16230769230769232\n",
            "Sigma:  0  Delay:  400 Test Accuracy:  0.21507692307692308\n",
            "Sigma:  0.5  Delay:  400 Test Accuracy:  0.20276923076923078\n",
            "Sigma:  1  Delay:  400 Test Accuracy:  0.20930769230769233\n",
            "Sigma:  2  Delay:  400 Test Accuracy:  0.1973846153846154\n",
            "Sigma:  3  Delay:  400 Test Accuracy:  0.1946153846153846\n",
            "Sigma:  4  Delay:  400 Test Accuracy:  0.2053846153846154\n",
            "Sigma:  5  Delay:  400 Test Accuracy:  0.23630769230769233\n",
            "Sigma:  6  Delay:  400 Test Accuracy:  0.22192307692307692\n",
            "Sigma:  0  Delay:  600 Test Accuracy:  0.5285384615384614\n",
            "Sigma:  0.5  Delay:  600 Test Accuracy:  0.5299230769230769\n",
            "Sigma:  1  Delay:  600 Test Accuracy:  0.5384615384615385\n",
            "Sigma:  2  Delay:  600 Test Accuracy:  0.5123846153846154\n",
            "Sigma:  3  Delay:  600 Test Accuracy:  0.49400000000000005\n",
            "Sigma:  4  Delay:  600 Test Accuracy:  0.506\n",
            "Sigma:  5  Delay:  600 Test Accuracy:  0.504\n",
            "Sigma:  6  Delay:  600 Test Accuracy:  0.4846153846153846\n",
            "Sigma:  0  Delay:  800 Test Accuracy:  0.9553076923076924\n",
            "Sigma:  0.5  Delay:  800 Test Accuracy:  0.9487692307692307\n",
            "Sigma:  1  Delay:  800 Test Accuracy:  0.9413076923076924\n",
            "Sigma:  2  Delay:  800 Test Accuracy:  0.9355384615384617\n"
          ]
        },
        {
          "output_type": "error",
          "ename": "KeyboardInterrupt",
          "evalue": "ignored",
          "traceback": [
            "\u001b[0;31m---------------------------------------------------------------------------\u001b[0m",
            "\u001b[0;31mKeyboardInterrupt\u001b[0m                         Traceback (most recent call last)",
            "\u001b[0;32m<ipython-input-14-723ae3c6e9b8>\u001b[0m in \u001b[0;36m<module>\u001b[0;34m()\u001b[0m\n\u001b[1;32m     25\u001b[0m \u001b[0;34m\u001b[0m\u001b[0m\n\u001b[1;32m     26\u001b[0m     \u001b[0;32mfor\u001b[0m \u001b[0mi\u001b[0m \u001b[0;32min\u001b[0m \u001b[0mrange\u001b[0m\u001b[0;34m(\u001b[0m\u001b[0mnum_trial\u001b[0m\u001b[0;34m)\u001b[0m\u001b[0;34m:\u001b[0m\u001b[0;34m\u001b[0m\u001b[0;34m\u001b[0m\u001b[0m\n\u001b[0;32m---> 27\u001b[0;31m         \u001b[0menv\u001b[0m\u001b[0;34m.\u001b[0m\u001b[0mnew_trial\u001b[0m\u001b[0;34m(\u001b[0m\u001b[0;34m)\u001b[0m\u001b[0;34m\u001b[0m\u001b[0;34m\u001b[0m\u001b[0m\n\u001b[0m\u001b[1;32m     28\u001b[0m         \u001b[0mob\u001b[0m\u001b[0;34m,\u001b[0m \u001b[0mgt\u001b[0m \u001b[0;34m=\u001b[0m \u001b[0menv\u001b[0m\u001b[0;34m.\u001b[0m\u001b[0mob\u001b[0m\u001b[0;34m,\u001b[0m \u001b[0menv\u001b[0m\u001b[0;34m.\u001b[0m\u001b[0mgt\u001b[0m\u001b[0;34m\u001b[0m\u001b[0;34m\u001b[0m\u001b[0m\n\u001b[1;32m     29\u001b[0m         \u001b[0minputs\u001b[0m \u001b[0;34m=\u001b[0m \u001b[0mtorch\u001b[0m\u001b[0;34m.\u001b[0m\u001b[0mfrom_numpy\u001b[0m\u001b[0;34m(\u001b[0m\u001b[0mob\u001b[0m\u001b[0;34m[\u001b[0m\u001b[0;34m:\u001b[0m\u001b[0;34m,\u001b[0m \u001b[0mnp\u001b[0m\u001b[0;34m.\u001b[0m\u001b[0mnewaxis\u001b[0m\u001b[0;34m,\u001b[0m \u001b[0;34m:\u001b[0m\u001b[0;34m]\u001b[0m\u001b[0;34m)\u001b[0m\u001b[0;34m.\u001b[0m\u001b[0mtype\u001b[0m\u001b[0;34m(\u001b[0m\u001b[0mtorch\u001b[0m\u001b[0;34m.\u001b[0m\u001b[0mfloat\u001b[0m\u001b[0;34m)\u001b[0m\u001b[0;34m\u001b[0m\u001b[0;34m\u001b[0m\u001b[0m\n",
            "\u001b[0;32m/content/neurogym/neurogym/core.py\u001b[0m in \u001b[0;36mnew_trial\u001b[0;34m(self, **kwargs)\u001b[0m\n\u001b[1;32m    175\u001b[0m         \u001b[0mself\u001b[0m\u001b[0;34m.\u001b[0m\u001b[0m_ob_built\u001b[0m \u001b[0;34m=\u001b[0m \u001b[0;32mFalse\u001b[0m\u001b[0;34m\u001b[0m\u001b[0;34m\u001b[0m\u001b[0m\n\u001b[1;32m    176\u001b[0m         \u001b[0mself\u001b[0m\u001b[0;34m.\u001b[0m\u001b[0m_gt_built\u001b[0m \u001b[0;34m=\u001b[0m \u001b[0;32mFalse\u001b[0m\u001b[0;34m\u001b[0m\u001b[0;34m\u001b[0m\u001b[0m\n\u001b[0;32m--> 177\u001b[0;31m         \u001b[0mtrial\u001b[0m \u001b[0;34m=\u001b[0m \u001b[0mself\u001b[0m\u001b[0;34m.\u001b[0m\u001b[0m_new_trial\u001b[0m\u001b[0;34m(\u001b[0m\u001b[0;34m**\u001b[0m\u001b[0mkwargs\u001b[0m\u001b[0;34m)\u001b[0m\u001b[0;34m\u001b[0m\u001b[0;34m\u001b[0m\u001b[0m\n\u001b[0m\u001b[1;32m    178\u001b[0m         \u001b[0mself\u001b[0m\u001b[0;34m.\u001b[0m\u001b[0mtrial\u001b[0m \u001b[0;34m=\u001b[0m \u001b[0mtrial\u001b[0m\u001b[0;34m\u001b[0m\u001b[0;34m\u001b[0m\u001b[0m\n\u001b[1;32m    179\u001b[0m         \u001b[0mself\u001b[0m\u001b[0;34m.\u001b[0m\u001b[0mnum_tr\u001b[0m \u001b[0;34m+=\u001b[0m \u001b[0;36m1\u001b[0m  \u001b[0;31m# Increment trial count\u001b[0m\u001b[0;34m\u001b[0m\u001b[0;34m\u001b[0m\u001b[0m\n",
            "\u001b[0;32m/content/neurogym/neurogym/envs/delaymatchcategorymod.py\u001b[0m in \u001b[0;36m_new_trial\u001b[0;34m(self, **kwargs)\u001b[0m\n\u001b[1;32m    100\u001b[0m         \u001b[0mself\u001b[0m\u001b[0;34m.\u001b[0m\u001b[0mset_ob\u001b[0m\u001b[0;34m(\u001b[0m\u001b[0;36m0\u001b[0m\u001b[0;34m,\u001b[0m \u001b[0;34m'test'\u001b[0m\u001b[0;34m,\u001b[0m \u001b[0mwhere\u001b[0m\u001b[0;34m=\u001b[0m\u001b[0;34m'fixation'\u001b[0m\u001b[0;34m)\u001b[0m\u001b[0;34m\u001b[0m\u001b[0;34m\u001b[0m\u001b[0m\n\u001b[1;32m    101\u001b[0m         \u001b[0mself\u001b[0m\u001b[0;34m.\u001b[0m\u001b[0madd_ob\u001b[0m\u001b[0;34m(\u001b[0m\u001b[0mstim_sample\u001b[0m\u001b[0;34m,\u001b[0m \u001b[0;34m'sample'\u001b[0m\u001b[0;34m,\u001b[0m \u001b[0mwhere\u001b[0m\u001b[0;34m=\u001b[0m\u001b[0;34m'stimulus'\u001b[0m\u001b[0;34m)\u001b[0m\u001b[0;34m\u001b[0m\u001b[0;34m\u001b[0m\u001b[0m\n\u001b[0;32m--> 102\u001b[0;31m         \u001b[0mself\u001b[0m\u001b[0;34m.\u001b[0m\u001b[0madd_ob\u001b[0m\u001b[0;34m(\u001b[0m\u001b[0mstim_test\u001b[0m\u001b[0;34m,\u001b[0m \u001b[0;34m'test'\u001b[0m\u001b[0;34m,\u001b[0m \u001b[0mwhere\u001b[0m\u001b[0;34m=\u001b[0m\u001b[0;34m'stimulus'\u001b[0m\u001b[0;34m)\u001b[0m\u001b[0;34m\u001b[0m\u001b[0;34m\u001b[0m\u001b[0m\n\u001b[0m\u001b[1;32m    103\u001b[0m         \u001b[0mself\u001b[0m\u001b[0;34m.\u001b[0m\u001b[0madd_randn\u001b[0m\u001b[0;34m(\u001b[0m\u001b[0;36m0\u001b[0m\u001b[0;34m,\u001b[0m \u001b[0mself\u001b[0m\u001b[0;34m.\u001b[0m\u001b[0msigma\u001b[0m\u001b[0;34m,\u001b[0m \u001b[0;34m[\u001b[0m\u001b[0;34m'sample'\u001b[0m\u001b[0;34m,\u001b[0m \u001b[0;34m'test'\u001b[0m\u001b[0;34m]\u001b[0m\u001b[0;34m,\u001b[0m \u001b[0mwhere\u001b[0m\u001b[0;34m=\u001b[0m\u001b[0;34m'stimulus'\u001b[0m\u001b[0;34m)\u001b[0m\u001b[0;34m\u001b[0m\u001b[0;34m\u001b[0m\u001b[0m\n\u001b[1;32m    104\u001b[0m \u001b[0;34m\u001b[0m\u001b[0m\n",
            "\u001b[0;32m/content/neurogym/neurogym/core.py\u001b[0m in \u001b[0;36madd_ob\u001b[0;34m(self, value, period, where)\u001b[0m\n\u001b[1;32m    396\u001b[0m             \u001b[0mwhere\u001b[0m\u001b[0;34m:\u001b[0m \u001b[0mstring\u001b[0m \u001b[0;32mor\u001b[0m \u001b[0mnp\u001b[0m \u001b[0marray\u001b[0m\u001b[0;34m,\u001b[0m \u001b[0mlocation\u001b[0m \u001b[0mof\u001b[0m \u001b[0mstimulus\u001b[0m \u001b[0mto\u001b[0m \u001b[0mbe\u001b[0m \u001b[0madded\u001b[0m\u001b[0;34m\u001b[0m\u001b[0;34m\u001b[0m\u001b[0m\n\u001b[1;32m    397\u001b[0m         \"\"\"\n\u001b[0;32m--> 398\u001b[0;31m         \u001b[0mself\u001b[0m\u001b[0;34m.\u001b[0m\u001b[0m_add_ob\u001b[0m\u001b[0;34m(\u001b[0m\u001b[0mvalue\u001b[0m\u001b[0;34m,\u001b[0m \u001b[0mperiod\u001b[0m\u001b[0;34m,\u001b[0m \u001b[0mwhere\u001b[0m\u001b[0;34m,\u001b[0m \u001b[0mreset\u001b[0m\u001b[0;34m=\u001b[0m\u001b[0;32mFalse\u001b[0m\u001b[0;34m)\u001b[0m\u001b[0;34m\u001b[0m\u001b[0;34m\u001b[0m\u001b[0m\n\u001b[0m\u001b[1;32m    399\u001b[0m \u001b[0;34m\u001b[0m\u001b[0m\n\u001b[1;32m    400\u001b[0m     \u001b[0;32mdef\u001b[0m \u001b[0madd_randn\u001b[0m\u001b[0;34m(\u001b[0m\u001b[0mself\u001b[0m\u001b[0;34m,\u001b[0m \u001b[0mmu\u001b[0m\u001b[0;34m=\u001b[0m\u001b[0;36m0\u001b[0m\u001b[0;34m,\u001b[0m \u001b[0msigma\u001b[0m\u001b[0;34m=\u001b[0m\u001b[0;36m1\u001b[0m\u001b[0;34m,\u001b[0m \u001b[0mperiod\u001b[0m\u001b[0;34m=\u001b[0m\u001b[0;32mNone\u001b[0m\u001b[0;34m,\u001b[0m \u001b[0mwhere\u001b[0m\u001b[0;34m=\u001b[0m\u001b[0;32mNone\u001b[0m\u001b[0;34m)\u001b[0m\u001b[0;34m:\u001b[0m\u001b[0;34m\u001b[0m\u001b[0;34m\u001b[0m\u001b[0m\n",
            "\u001b[0;32m/content/neurogym/neurogym/core.py\u001b[0m in \u001b[0;36m_add_ob\u001b[0;34m(self, value, period, where, reset)\u001b[0m\n\u001b[1;32m    384\u001b[0m                 \u001b[0mob\u001b[0m\u001b[0;34m[\u001b[0m\u001b[0;34m...\u001b[0m\u001b[0;34m,\u001b[0m \u001b[0mwhere\u001b[0m\u001b[0;34m]\u001b[0m \u001b[0;34m*=\u001b[0m \u001b[0;36m0\u001b[0m\u001b[0;34m\u001b[0m\u001b[0;34m\u001b[0m\u001b[0m\n\u001b[1;32m    385\u001b[0m             \u001b[0;32mtry\u001b[0m\u001b[0;34m:\u001b[0m\u001b[0;34m\u001b[0m\u001b[0;34m\u001b[0m\u001b[0m\n\u001b[0;32m--> 386\u001b[0;31m                 \u001b[0mob\u001b[0m\u001b[0;34m[\u001b[0m\u001b[0;34m...\u001b[0m\u001b[0;34m,\u001b[0m \u001b[0mwhere\u001b[0m\u001b[0;34m]\u001b[0m \u001b[0;34m+=\u001b[0m \u001b[0mvalue\u001b[0m\u001b[0;34m(\u001b[0m\u001b[0mob\u001b[0m\u001b[0;34m[\u001b[0m\u001b[0;34m...\u001b[0m\u001b[0;34m,\u001b[0m \u001b[0mwhere\u001b[0m\u001b[0;34m]\u001b[0m\u001b[0;34m)\u001b[0m\u001b[0;34m\u001b[0m\u001b[0;34m\u001b[0m\u001b[0m\n\u001b[0m\u001b[1;32m    387\u001b[0m             \u001b[0;32mexcept\u001b[0m \u001b[0mTypeError\u001b[0m\u001b[0;34m:\u001b[0m\u001b[0;34m\u001b[0m\u001b[0;34m\u001b[0m\u001b[0m\n\u001b[1;32m    388\u001b[0m                 \u001b[0mob\u001b[0m\u001b[0;34m[\u001b[0m\u001b[0;34m...\u001b[0m\u001b[0;34m,\u001b[0m \u001b[0mwhere\u001b[0m\u001b[0;34m]\u001b[0m \u001b[0;34m+=\u001b[0m \u001b[0mvalue\u001b[0m\u001b[0;34m\u001b[0m\u001b[0;34m\u001b[0m\u001b[0m\n",
            "\u001b[0;31mKeyboardInterrupt\u001b[0m: "
          ]
        }
      ]
    },
    {
      "cell_type": "code",
      "metadata": {
        "colab": {
          "base_uri": "https://localhost:8080/"
        },
        "id": "PmetbWe2Aaal",
        "outputId": "55780098-f1fe-4a56-9d0e-9f37fd6603df"
      },
      "source": [
        "net.parameters"
      ],
      "execution_count": null,
      "outputs": [
        {
          "data": {
            "text/plain": [
              "<bound method Module.parameters of RNNNet(\n",
              "  (rnn): CTRNN(\n",
              "    (input2h): Linear(in_features=33, out_features=150, bias=True)\n",
              "    (h2h): Linear(in_features=150, out_features=150, bias=True)\n",
              "  )\n",
              "  (fc): Linear(in_features=150, out_features=3, bias=True)\n",
              ")>"
            ]
          },
          "execution_count": 9,
          "metadata": {},
          "output_type": "execute_result"
        }
      ]
    },
    {
      "cell_type": "code",
      "metadata": {
        "colab": {
          "base_uri": "https://localhost:8080/",
          "height": 232
        },
        "id": "3aiBELeUWW8h",
        "outputId": "72d9483c-a2b3-4289-ad1a-668d6684b017"
      },
      "source": [
        "# Compute PCA (principal component analysis) and visualize\n",
        "npcs = 2\n",
        "pca = PCA(n_components=npcs)\n",
        "pca.fit(activity)\n",
        "\n",
        "fig, (ax1, ax2) = plt.subplots(1, 2, sharey=True, sharex=True, figsize=(6, 3))\n",
        "for i in range(num_trial):\n",
        "    trial = trial_infos[i]\n",
        "    activity_pc = pca.transform(activity_dict[i])\n",
        "    \n",
        "    color = 'red' if trial['ground_truth'] == 1 else 'blue'\n",
        "    \n",
        "    _ = ax1.plot(activity_pc[:, 0], activity_pc[:, 1], 'o-', color=color)\n",
        "    \n",
        "    if i < 1:\n",
        "        _ = ax2.plot(activity_pc[:, 0], activity_pc[:, 1], 'o-', color=color)\n",
        "\n",
        "ax1.set_xlabel('PC 1')\n",
        "ax1.set_ylabel('PC 2')"
      ],
      "execution_count": null,
      "outputs": [
        {
          "ename": "NameError",
          "evalue": "ignored",
          "output_type": "error",
          "traceback": [
            "\u001b[0;31m---------------------------------------------------------------------------\u001b[0m",
            "\u001b[0;31mNameError\u001b[0m                                 Traceback (most recent call last)",
            "\u001b[0;32m<ipython-input-12-c06840863498>\u001b[0m in \u001b[0;36m<module>\u001b[0;34m()\u001b[0m\n\u001b[1;32m      2\u001b[0m \u001b[0mnpcs\u001b[0m \u001b[0;34m=\u001b[0m \u001b[0;36m2\u001b[0m\u001b[0;34m\u001b[0m\u001b[0;34m\u001b[0m\u001b[0m\n\u001b[1;32m      3\u001b[0m \u001b[0mpca\u001b[0m \u001b[0;34m=\u001b[0m \u001b[0mPCA\u001b[0m\u001b[0;34m(\u001b[0m\u001b[0mn_components\u001b[0m\u001b[0;34m=\u001b[0m\u001b[0mnpcs\u001b[0m\u001b[0;34m)\u001b[0m\u001b[0;34m\u001b[0m\u001b[0;34m\u001b[0m\u001b[0m\n\u001b[0;32m----> 4\u001b[0;31m \u001b[0mpca\u001b[0m\u001b[0;34m.\u001b[0m\u001b[0mfit\u001b[0m\u001b[0;34m(\u001b[0m\u001b[0mactivity\u001b[0m\u001b[0;34m)\u001b[0m\u001b[0;34m\u001b[0m\u001b[0;34m\u001b[0m\u001b[0m\n\u001b[0m\u001b[1;32m      5\u001b[0m \u001b[0;34m\u001b[0m\u001b[0m\n\u001b[1;32m      6\u001b[0m \u001b[0mfig\u001b[0m\u001b[0;34m,\u001b[0m \u001b[0;34m(\u001b[0m\u001b[0max1\u001b[0m\u001b[0;34m,\u001b[0m \u001b[0max2\u001b[0m\u001b[0;34m)\u001b[0m \u001b[0;34m=\u001b[0m \u001b[0mplt\u001b[0m\u001b[0;34m.\u001b[0m\u001b[0msubplots\u001b[0m\u001b[0;34m(\u001b[0m\u001b[0;36m1\u001b[0m\u001b[0;34m,\u001b[0m \u001b[0;36m2\u001b[0m\u001b[0;34m,\u001b[0m \u001b[0msharey\u001b[0m\u001b[0;34m=\u001b[0m\u001b[0;32mTrue\u001b[0m\u001b[0;34m,\u001b[0m \u001b[0msharex\u001b[0m\u001b[0;34m=\u001b[0m\u001b[0;32mTrue\u001b[0m\u001b[0;34m,\u001b[0m \u001b[0mfigsize\u001b[0m\u001b[0;34m=\u001b[0m\u001b[0;34m(\u001b[0m\u001b[0;36m6\u001b[0m\u001b[0;34m,\u001b[0m \u001b[0;36m3\u001b[0m\u001b[0;34m)\u001b[0m\u001b[0;34m)\u001b[0m\u001b[0;34m\u001b[0m\u001b[0;34m\u001b[0m\u001b[0m\n",
            "\u001b[0;31mNameError\u001b[0m: name 'activity' is not defined"
          ]
        }
      ]
    },
    {
      "cell_type": "code",
      "metadata": {
        "colab": {
          "base_uri": "https://localhost:8080/",
          "height": 232
        },
        "id": "4OxAOM6tWgl3",
        "outputId": "2af28a02-5876-4efc-a4aa-50ad05f2157a"
      },
      "source": [
        "# Compute PCA and visualize\n",
        "npcs = 2\n",
        "pca = PCA(n_components=npcs)\n",
        "pca.fit(activity)\n",
        "# print('Shape of the projected activity: (Time points, PCs): ', activity_pc.shape)\n",
        "if npcs == 2:\n",
        "    fig, (ax1) = plt.subplots(1, 1, sharey=True, sharex=True, figsize=(6, 3))\n",
        "else:\n",
        "    fig, (ax1, ax2, ax3) = plt.subplots(1, 3, sharey=True, sharex=True, figsize=(6, 3))\n",
        "for i in range(num_trial):\n",
        "    trial = trial_infos[i]\n",
        "    activity_pc = pca.transform(activity_dict[i])\n",
        "    \n",
        "    color = 'red' \n",
        "    cmap = mpl.cm.get_cmap('winter')\n",
        "    cmap1 = mpl.cm.get_cmap('summer')\n",
        "    if   trial['sample_category'] == 1 and trial['ground_truth']=='match':\n",
        "        color = 'red'\n",
        "        color = cmap(1/4)\n",
        "    elif trial['sample_category'] == 1 and trial['ground_truth']=='non-match':\n",
        "        color = cmap(2/4)\n",
        "    elif trial['sample_category'] == 0 and trial['ground_truth']=='match':\n",
        "        color = 'green' \n",
        "        color = cmap1(1/4)\n",
        "    elif trial['sample_category'] == 0 and trial['ground_truth']=='non-match':\n",
        "        color= 'blue'\n",
        "        color = cmap1(2/4)\n",
        "    \n",
        "    _ = ax1.plot(activity_pc[:, 0], activity_pc[:,1], 'o-', color=color)\n",
        "    \n",
        "    if npcs > 2:\n",
        "        _ = ax2.plot(activity_pc[:, 0], activity_pc[:, 2], 'o-', color=color)\n",
        "        _ = ax3.plot(activity_pc[:, 1], activity_pc[:, 2], 'o-', color=color)\n",
        "        \n",
        "\n",
        "ax1.set_xlabel('PC 1')\n",
        "ax1.set_ylabel('PC 2')\n",
        "\n",
        "ax2.set_xlabel('PC 1')\n",
        "ax2.set_ylabel('PC 3')\n",
        "\n",
        "ax3.set_xlabel('PC 2')\n",
        "ax3.set_ylabel('PC 3')\n",
        "\n",
        "# Convert information into pandas dataframe\n",
        "df = pd.DataFrame()\n",
        "for i in range(len(trial_infos)):\n",
        "    df = df.append(trial_infos[i], ignore_index=True)\n",
        "    \n",
        "\n",
        "trials = df[df['ground_truth']=='match'].index\n",
        "output_match = np.mean(np.array([output_dict[i] for i in trials]), axis=0)\n",
        "\n",
        "trials = df[df['ground_truth']=='non-match'].index\n",
        "output_nomatch = np.mean(np.array([output_dict[i] for i in trials]), axis=0)"
      ],
      "execution_count": null,
      "outputs": [
        {
          "ename": "NameError",
          "evalue": "ignored",
          "output_type": "error",
          "traceback": [
            "\u001b[0;31m---------------------------------------------------------------------------\u001b[0m",
            "\u001b[0;31mNameError\u001b[0m                                 Traceback (most recent call last)",
            "\u001b[0;32m<ipython-input-11-396a2c5adf3a>\u001b[0m in \u001b[0;36m<module>\u001b[0;34m()\u001b[0m\n\u001b[1;32m      2\u001b[0m \u001b[0mnpcs\u001b[0m \u001b[0;34m=\u001b[0m \u001b[0;36m2\u001b[0m\u001b[0;34m\u001b[0m\u001b[0;34m\u001b[0m\u001b[0m\n\u001b[1;32m      3\u001b[0m \u001b[0mpca\u001b[0m \u001b[0;34m=\u001b[0m \u001b[0mPCA\u001b[0m\u001b[0;34m(\u001b[0m\u001b[0mn_components\u001b[0m\u001b[0;34m=\u001b[0m\u001b[0mnpcs\u001b[0m\u001b[0;34m)\u001b[0m\u001b[0;34m\u001b[0m\u001b[0;34m\u001b[0m\u001b[0m\n\u001b[0;32m----> 4\u001b[0;31m \u001b[0mpca\u001b[0m\u001b[0;34m.\u001b[0m\u001b[0mfit\u001b[0m\u001b[0;34m(\u001b[0m\u001b[0mactivity\u001b[0m\u001b[0;34m)\u001b[0m\u001b[0;34m\u001b[0m\u001b[0;34m\u001b[0m\u001b[0m\n\u001b[0m\u001b[1;32m      5\u001b[0m \u001b[0;31m# print('Shape of the projected activity: (Time points, PCs): ', activity_pc.shape)\u001b[0m\u001b[0;34m\u001b[0m\u001b[0;34m\u001b[0m\u001b[0;34m\u001b[0m\u001b[0m\n\u001b[1;32m      6\u001b[0m \u001b[0;32mif\u001b[0m \u001b[0mnpcs\u001b[0m \u001b[0;34m==\u001b[0m \u001b[0;36m2\u001b[0m\u001b[0;34m:\u001b[0m\u001b[0;34m\u001b[0m\u001b[0;34m\u001b[0m\u001b[0m\n",
            "\u001b[0;31mNameError\u001b[0m: name 'activity' is not defined"
          ]
        }
      ]
    }
  ]
}